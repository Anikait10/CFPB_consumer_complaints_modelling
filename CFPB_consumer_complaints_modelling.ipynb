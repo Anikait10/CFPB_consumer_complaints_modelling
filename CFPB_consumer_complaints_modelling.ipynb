{
 "cells": [
  {
   "cell_type": "markdown",
   "id": "81438f22-a85d-4bbf-bd17-4a5d752e934f",
   "metadata": {},
   "source": [
    "# Consumer Financial Protection Bureau (CFPB) Consumer Complaints Modeling"
   ]
  },
  {
   "cell_type": "code",
   "execution_count": 18,
   "id": "27b5a5c1-f5a9-4d98-9615-3b30f9c0e951",
   "metadata": {
    "tags": []
   },
   "outputs": [],
   "source": [
    "import pandas as pd\n",
    "from sklearn.model_selection import train_test_split\n",
    "from imblearn.under_sampling import RandomUnderSampler\n",
    "from xgboost import XGBClassifier\n",
    "from sklearn.metrics import classification_report, confusion_matrix\n",
    "from sklearn.preprocessing import LabelEncoder, OneHotEncoder\n",
    "from sklearn import preprocessing\n",
    "\n",
    "import numpy as np"
   ]
  },
  {
   "cell_type": "code",
   "execution_count": 11,
   "id": "d8537b87-d40a-4240-8b65-173a6188e070",
   "metadata": {
    "tags": []
   },
   "outputs": [
    {
     "data": {
      "text/html": [
       "<div>\n",
       "<style scoped>\n",
       "    .dataframe tbody tr th:only-of-type {\n",
       "        vertical-align: middle;\n",
       "    }\n",
       "\n",
       "    .dataframe tbody tr th {\n",
       "        vertical-align: top;\n",
       "    }\n",
       "\n",
       "    .dataframe thead th {\n",
       "        text-align: right;\n",
       "    }\n",
       "</style>\n",
       "<table border=\"1\" class=\"dataframe\">\n",
       "  <thead>\n",
       "    <tr style=\"text-align: right;\">\n",
       "      <th></th>\n",
       "      <th>Date received</th>\n",
       "      <th>Product</th>\n",
       "      <th>Sub-product</th>\n",
       "      <th>Issue</th>\n",
       "      <th>Sub-issue</th>\n",
       "      <th>Consumer complaint narrative</th>\n",
       "      <th>Company public response</th>\n",
       "      <th>Company</th>\n",
       "      <th>State</th>\n",
       "      <th>ZIP code</th>\n",
       "      <th>Tags</th>\n",
       "      <th>Consumer consent provided?</th>\n",
       "      <th>Submitted via</th>\n",
       "      <th>Date sent to company</th>\n",
       "      <th>Company response to consumer</th>\n",
       "      <th>Timely response?</th>\n",
       "      <th>Consumer disputed?</th>\n",
       "      <th>Complaint ID</th>\n",
       "    </tr>\n",
       "  </thead>\n",
       "  <tbody>\n",
       "    <tr>\n",
       "      <th>0</th>\n",
       "      <td>2016-10-26</td>\n",
       "      <td>Money transfers</td>\n",
       "      <td>International money transfer</td>\n",
       "      <td>Other transaction issues</td>\n",
       "      <td>NaN</td>\n",
       "      <td>To whom it concerns, I would like to file a fo...</td>\n",
       "      <td>Company has responded to the consumer and the ...</td>\n",
       "      <td>CITIBANK, N.A.</td>\n",
       "      <td>NaN</td>\n",
       "      <td>NaN</td>\n",
       "      <td>NaN</td>\n",
       "      <td>Consent provided</td>\n",
       "      <td>Web</td>\n",
       "      <td>2016-10-29</td>\n",
       "      <td>Closed with explanation</td>\n",
       "      <td>Yes</td>\n",
       "      <td>No</td>\n",
       "      <td>2180490</td>\n",
       "    </tr>\n",
       "    <tr>\n",
       "      <th>1</th>\n",
       "      <td>2015-03-27</td>\n",
       "      <td>Bank account or service</td>\n",
       "      <td>Other bank product/service</td>\n",
       "      <td>Account opening, closing, or management</td>\n",
       "      <td>NaN</td>\n",
       "      <td>My name is XXXX XXXX XXXX and huband name is X...</td>\n",
       "      <td>Company chooses not to provide a public response</td>\n",
       "      <td>CITIBANK, N.A.</td>\n",
       "      <td>PA</td>\n",
       "      <td>151XX</td>\n",
       "      <td>Older American</td>\n",
       "      <td>Consent provided</td>\n",
       "      <td>Web</td>\n",
       "      <td>2015-03-27</td>\n",
       "      <td>Closed with explanation</td>\n",
       "      <td>Yes</td>\n",
       "      <td>No</td>\n",
       "      <td>1305453</td>\n",
       "    </tr>\n",
       "    <tr>\n",
       "      <th>2</th>\n",
       "      <td>2015-04-20</td>\n",
       "      <td>Bank account or service</td>\n",
       "      <td>Other bank product/service</td>\n",
       "      <td>Making/receiving payments, sending money</td>\n",
       "      <td>NaN</td>\n",
       "      <td>XXXX 2015 : I called to make a payment on XXXX...</td>\n",
       "      <td>Company chooses not to provide a public response</td>\n",
       "      <td>U.S. BANCORP</td>\n",
       "      <td>PA</td>\n",
       "      <td>152XX</td>\n",
       "      <td>NaN</td>\n",
       "      <td>Consent provided</td>\n",
       "      <td>Web</td>\n",
       "      <td>2015-04-22</td>\n",
       "      <td>Closed with monetary relief</td>\n",
       "      <td>Yes</td>\n",
       "      <td>No</td>\n",
       "      <td>1337613</td>\n",
       "    </tr>\n",
       "    <tr>\n",
       "      <th>3</th>\n",
       "      <td>2013-04-29</td>\n",
       "      <td>Mortgage</td>\n",
       "      <td>Conventional fixed mortgage</td>\n",
       "      <td>Application, originator, mortgage broker</td>\n",
       "      <td>NaN</td>\n",
       "      <td>NaN</td>\n",
       "      <td>NaN</td>\n",
       "      <td>JPMORGAN CHASE &amp; CO.</td>\n",
       "      <td>VA</td>\n",
       "      <td>22406</td>\n",
       "      <td>Servicemember</td>\n",
       "      <td>NaN</td>\n",
       "      <td>Phone</td>\n",
       "      <td>2013-04-30</td>\n",
       "      <td>Closed with explanation</td>\n",
       "      <td>Yes</td>\n",
       "      <td>Yes</td>\n",
       "      <td>393900</td>\n",
       "    </tr>\n",
       "    <tr>\n",
       "      <th>4</th>\n",
       "      <td>2013-05-29</td>\n",
       "      <td>Mortgage</td>\n",
       "      <td>Other mortgage</td>\n",
       "      <td>Loan modification,collection,foreclosure</td>\n",
       "      <td>NaN</td>\n",
       "      <td>NaN</td>\n",
       "      <td>NaN</td>\n",
       "      <td>BANK OF AMERICA, NATIONAL ASSOCIATION</td>\n",
       "      <td>GA</td>\n",
       "      <td>30044</td>\n",
       "      <td>NaN</td>\n",
       "      <td>NaN</td>\n",
       "      <td>Referral</td>\n",
       "      <td>2013-05-31</td>\n",
       "      <td>Closed with explanation</td>\n",
       "      <td>Yes</td>\n",
       "      <td>No</td>\n",
       "      <td>418647</td>\n",
       "    </tr>\n",
       "    <tr>\n",
       "      <th>...</th>\n",
       "      <td>...</td>\n",
       "      <td>...</td>\n",
       "      <td>...</td>\n",
       "      <td>...</td>\n",
       "      <td>...</td>\n",
       "      <td>...</td>\n",
       "      <td>...</td>\n",
       "      <td>...</td>\n",
       "      <td>...</td>\n",
       "      <td>...</td>\n",
       "      <td>...</td>\n",
       "      <td>...</td>\n",
       "      <td>...</td>\n",
       "      <td>...</td>\n",
       "      <td>...</td>\n",
       "      <td>...</td>\n",
       "      <td>...</td>\n",
       "      <td>...</td>\n",
       "    </tr>\n",
       "    <tr>\n",
       "      <th>207255</th>\n",
       "      <td>2015-05-24</td>\n",
       "      <td>Debt collection</td>\n",
       "      <td>Credit card</td>\n",
       "      <td>Taking/threatening an illegal action</td>\n",
       "      <td>Sued w/o proper notification of suit</td>\n",
       "      <td>NaN</td>\n",
       "      <td>NaN</td>\n",
       "      <td>JPMORGAN CHASE &amp; CO.</td>\n",
       "      <td>FL</td>\n",
       "      <td>33133</td>\n",
       "      <td>NaN</td>\n",
       "      <td>Consent not provided</td>\n",
       "      <td>Web</td>\n",
       "      <td>2015-05-24</td>\n",
       "      <td>Closed with explanation</td>\n",
       "      <td>Yes</td>\n",
       "      <td>No</td>\n",
       "      <td>1390395</td>\n",
       "    </tr>\n",
       "    <tr>\n",
       "      <th>207256</th>\n",
       "      <td>2012-01-10</td>\n",
       "      <td>Mortgage</td>\n",
       "      <td>Conventional fixed mortgage</td>\n",
       "      <td>Loan modification,collection,foreclosure</td>\n",
       "      <td>NaN</td>\n",
       "      <td>NaN</td>\n",
       "      <td>NaN</td>\n",
       "      <td>JPMORGAN CHASE &amp; CO.</td>\n",
       "      <td>NY</td>\n",
       "      <td>10312</td>\n",
       "      <td>NaN</td>\n",
       "      <td>NaN</td>\n",
       "      <td>Referral</td>\n",
       "      <td>2012-01-11</td>\n",
       "      <td>Closed without relief</td>\n",
       "      <td>Yes</td>\n",
       "      <td>Yes</td>\n",
       "      <td>12192</td>\n",
       "    </tr>\n",
       "    <tr>\n",
       "      <th>207257</th>\n",
       "      <td>2012-07-17</td>\n",
       "      <td>Student loan</td>\n",
       "      <td>Non-federal student loan</td>\n",
       "      <td>Repaying your loan</td>\n",
       "      <td>NaN</td>\n",
       "      <td>NaN</td>\n",
       "      <td>NaN</td>\n",
       "      <td>BANK OF AMERICA, NATIONAL ASSOCIATION</td>\n",
       "      <td>NH</td>\n",
       "      <td>032XX</td>\n",
       "      <td>NaN</td>\n",
       "      <td>NaN</td>\n",
       "      <td>Web</td>\n",
       "      <td>2012-07-18</td>\n",
       "      <td>Closed with explanation</td>\n",
       "      <td>Yes</td>\n",
       "      <td>No</td>\n",
       "      <td>118351</td>\n",
       "    </tr>\n",
       "    <tr>\n",
       "      <th>207258</th>\n",
       "      <td>2016-09-29</td>\n",
       "      <td>Bank account or service</td>\n",
       "      <td>Checking account</td>\n",
       "      <td>Account opening, closing, or management</td>\n",
       "      <td>NaN</td>\n",
       "      <td>Near the end of XXXX 2016 I opened a Citigold ...</td>\n",
       "      <td>Company has responded to the consumer and the ...</td>\n",
       "      <td>CITIBANK, N.A.</td>\n",
       "      <td>CA</td>\n",
       "      <td>900XX</td>\n",
       "      <td>NaN</td>\n",
       "      <td>Consent provided</td>\n",
       "      <td>Web</td>\n",
       "      <td>2016-09-29</td>\n",
       "      <td>Closed with non-monetary relief</td>\n",
       "      <td>Yes</td>\n",
       "      <td>No</td>\n",
       "      <td>2138969</td>\n",
       "    </tr>\n",
       "    <tr>\n",
       "      <th>207259</th>\n",
       "      <td>2015-04-29</td>\n",
       "      <td>Mortgage</td>\n",
       "      <td>Conventional fixed mortgage</td>\n",
       "      <td>Loan modification,collection,foreclosure</td>\n",
       "      <td>NaN</td>\n",
       "      <td>My father died in XX/XX/XXXX. Left me his only...</td>\n",
       "      <td>NaN</td>\n",
       "      <td>CITIBANK, N.A.</td>\n",
       "      <td>OK</td>\n",
       "      <td>740XX</td>\n",
       "      <td>NaN</td>\n",
       "      <td>Consent provided</td>\n",
       "      <td>Web</td>\n",
       "      <td>2015-04-29</td>\n",
       "      <td>Closed with explanation</td>\n",
       "      <td>Yes</td>\n",
       "      <td>No</td>\n",
       "      <td>1352738</td>\n",
       "    </tr>\n",
       "  </tbody>\n",
       "</table>\n",
       "<p>207260 rows × 18 columns</p>\n",
       "</div>"
      ],
      "text/plain": [
       "       Date received                  Product                   Sub-product  \\\n",
       "0         2016-10-26          Money transfers  International money transfer   \n",
       "1         2015-03-27  Bank account or service    Other bank product/service   \n",
       "2         2015-04-20  Bank account or service    Other bank product/service   \n",
       "3         2013-04-29                 Mortgage   Conventional fixed mortgage   \n",
       "4         2013-05-29                 Mortgage                Other mortgage   \n",
       "...              ...                      ...                           ...   \n",
       "207255    2015-05-24          Debt collection                   Credit card   \n",
       "207256    2012-01-10                 Mortgage   Conventional fixed mortgage   \n",
       "207257    2012-07-17             Student loan      Non-federal student loan   \n",
       "207258    2016-09-29  Bank account or service              Checking account   \n",
       "207259    2015-04-29                 Mortgage   Conventional fixed mortgage   \n",
       "\n",
       "                                           Issue  \\\n",
       "0                       Other transaction issues   \n",
       "1        Account opening, closing, or management   \n",
       "2       Making/receiving payments, sending money   \n",
       "3       Application, originator, mortgage broker   \n",
       "4       Loan modification,collection,foreclosure   \n",
       "...                                          ...   \n",
       "207255      Taking/threatening an illegal action   \n",
       "207256  Loan modification,collection,foreclosure   \n",
       "207257                        Repaying your loan   \n",
       "207258   Account opening, closing, or management   \n",
       "207259  Loan modification,collection,foreclosure   \n",
       "\n",
       "                                   Sub-issue  \\\n",
       "0                                        NaN   \n",
       "1                                        NaN   \n",
       "2                                        NaN   \n",
       "3                                        NaN   \n",
       "4                                        NaN   \n",
       "...                                      ...   \n",
       "207255  Sued w/o proper notification of suit   \n",
       "207256                                   NaN   \n",
       "207257                                   NaN   \n",
       "207258                                   NaN   \n",
       "207259                                   NaN   \n",
       "\n",
       "                             Consumer complaint narrative  \\\n",
       "0       To whom it concerns, I would like to file a fo...   \n",
       "1       My name is XXXX XXXX XXXX and huband name is X...   \n",
       "2       XXXX 2015 : I called to make a payment on XXXX...   \n",
       "3                                                     NaN   \n",
       "4                                                     NaN   \n",
       "...                                                   ...   \n",
       "207255                                                NaN   \n",
       "207256                                                NaN   \n",
       "207257                                                NaN   \n",
       "207258  Near the end of XXXX 2016 I opened a Citigold ...   \n",
       "207259  My father died in XX/XX/XXXX. Left me his only...   \n",
       "\n",
       "                                  Company public response  \\\n",
       "0       Company has responded to the consumer and the ...   \n",
       "1        Company chooses not to provide a public response   \n",
       "2        Company chooses not to provide a public response   \n",
       "3                                                     NaN   \n",
       "4                                                     NaN   \n",
       "...                                                   ...   \n",
       "207255                                                NaN   \n",
       "207256                                                NaN   \n",
       "207257                                                NaN   \n",
       "207258  Company has responded to the consumer and the ...   \n",
       "207259                                                NaN   \n",
       "\n",
       "                                      Company State ZIP code            Tags  \\\n",
       "0                              CITIBANK, N.A.   NaN      NaN             NaN   \n",
       "1                              CITIBANK, N.A.    PA    151XX  Older American   \n",
       "2                                U.S. BANCORP    PA    152XX             NaN   \n",
       "3                        JPMORGAN CHASE & CO.    VA    22406   Servicemember   \n",
       "4       BANK OF AMERICA, NATIONAL ASSOCIATION    GA    30044             NaN   \n",
       "...                                       ...   ...      ...             ...   \n",
       "207255                   JPMORGAN CHASE & CO.    FL    33133             NaN   \n",
       "207256                   JPMORGAN CHASE & CO.    NY    10312             NaN   \n",
       "207257  BANK OF AMERICA, NATIONAL ASSOCIATION    NH    032XX             NaN   \n",
       "207258                         CITIBANK, N.A.    CA    900XX             NaN   \n",
       "207259                         CITIBANK, N.A.    OK    740XX             NaN   \n",
       "\n",
       "       Consumer consent provided? Submitted via Date sent to company  \\\n",
       "0                Consent provided           Web           2016-10-29   \n",
       "1                Consent provided           Web           2015-03-27   \n",
       "2                Consent provided           Web           2015-04-22   \n",
       "3                             NaN         Phone           2013-04-30   \n",
       "4                             NaN      Referral           2013-05-31   \n",
       "...                           ...           ...                  ...   \n",
       "207255       Consent not provided           Web           2015-05-24   \n",
       "207256                        NaN      Referral           2012-01-11   \n",
       "207257                        NaN           Web           2012-07-18   \n",
       "207258           Consent provided           Web           2016-09-29   \n",
       "207259           Consent provided           Web           2015-04-29   \n",
       "\n",
       "           Company response to consumer Timely response? Consumer disputed?  \\\n",
       "0               Closed with explanation              Yes                 No   \n",
       "1               Closed with explanation              Yes                 No   \n",
       "2           Closed with monetary relief              Yes                 No   \n",
       "3               Closed with explanation              Yes                Yes   \n",
       "4               Closed with explanation              Yes                 No   \n",
       "...                                 ...              ...                ...   \n",
       "207255          Closed with explanation              Yes                 No   \n",
       "207256            Closed without relief              Yes                Yes   \n",
       "207257          Closed with explanation              Yes                 No   \n",
       "207258  Closed with non-monetary relief              Yes                 No   \n",
       "207259          Closed with explanation              Yes                 No   \n",
       "\n",
       "        Complaint ID  \n",
       "0            2180490  \n",
       "1            1305453  \n",
       "2            1337613  \n",
       "3             393900  \n",
       "4             418647  \n",
       "...              ...  \n",
       "207255       1390395  \n",
       "207256         12192  \n",
       "207257        118351  \n",
       "207258       2138969  \n",
       "207259       1352738  \n",
       "\n",
       "[207260 rows x 18 columns]"
      ]
     },
     "execution_count": 11,
     "metadata": {},
     "output_type": "execute_result"
    }
   ],
   "source": [
    "df = pd.read_csv('shared/complaints_25Nov21.csv')\n",
    "df"
   ]
  },
  {
   "cell_type": "code",
   "execution_count": 12,
   "id": "4d3a991d-c034-4324-97eb-add92405bf17",
   "metadata": {
    "tags": []
   },
   "outputs": [],
   "source": [
    "selected_features = ['Product', 'Sub-product', 'Issue', 'State', 'Tags', 'Submitted via',\n",
    "                     'Company response to consumer', 'Timely response?']"
   ]
  },
  {
   "cell_type": "code",
   "execution_count": 19,
   "id": "187f1009-65bd-4f06-b114-af1e73921d86",
   "metadata": {
    "tags": []
   },
   "outputs": [],
   "source": [
    "X = df[selected_features]\n",
    "y = df['Consumer disputed?']\n",
    "label_encoder = LabelEncoder()\n",
    "y = label_encoder.fit_transform(y)\n"
   ]
  },
  {
   "cell_type": "code",
   "execution_count": 21,
   "id": "eddeea39-67ee-4d93-91f1-34bd94601a24",
   "metadata": {
    "tags": []
   },
   "outputs": [
    {
     "name": "stderr",
     "output_type": "stream",
     "text": [
      "/opt/conda/envs/mggy8413/lib/python3.10/site-packages/sklearn/preprocessing/_encoders.py:972: FutureWarning: `sparse` was renamed to `sparse_output` in version 1.2 and will be removed in 1.4. `sparse_output` is ignored unless you leave `sparse` to its default value.\n",
      "  warnings.warn(\n"
     ]
    }
   ],
   "source": [
    "from sklearn.compose import ColumnTransformer\n",
    "categorical_features = X.select_dtypes(include=['object']).columns\n",
    "transformers = [\n",
    "    ('onehot', OneHotEncoder(sparse=False, handle_unknown='ignore'), categorical_features)\n",
    "]\n",
    "preprocessor = ColumnTransformer(transformers)\n",
    "X = preprocessor.fit_transform(X)\n"
   ]
  },
  {
   "cell_type": "code",
   "execution_count": 23,
   "id": "595fa61d-a919-4118-8acd-4c4e8896747c",
   "metadata": {
    "tags": []
   },
   "outputs": [],
   "source": [
    "X_train, X_test, y_train, y_test = train_test_split(X, y, test_size=0.2, random_state = 123)"
   ]
  },
  {
   "cell_type": "code",
   "execution_count": 24,
   "id": "e0bb29d3-ada5-42df-a773-c387a67fedab",
   "metadata": {
    "tags": []
   },
   "outputs": [
    {
     "data": {
      "text/plain": [
       "0.21684719675769565"
      ]
     },
     "execution_count": 24,
     "metadata": {},
     "output_type": "execute_result"
    }
   ],
   "source": [
    "proportion_disputed = np.sum(y_train) / len(y_train)\n",
    "proportion_disputed"
   ]
  },
  {
   "cell_type": "code",
   "execution_count": 25,
   "id": "f82adb09-e0fb-430b-bc0c-9439a7967976",
   "metadata": {
    "tags": []
   },
   "outputs": [],
   "source": [
    "from imblearn.under_sampling import RandomUnderSampler\n",
    "undersampler = RandomUnderSampler(random_state=123)\n",
    "X_train, y_train = undersampler.fit_resample(X, y)\n"
   ]
  },
  {
   "cell_type": "code",
   "execution_count": 26,
   "id": "9dba94f5-d1ce-4eb5-8faf-91b0ad83366d",
   "metadata": {
    "tags": []
   },
   "outputs": [
    {
     "data": {
      "text/html": [
       "<style>#sk-container-id-1 {color: black;}#sk-container-id-1 pre{padding: 0;}#sk-container-id-1 div.sk-toggleable {background-color: white;}#sk-container-id-1 label.sk-toggleable__label {cursor: pointer;display: block;width: 100%;margin-bottom: 0;padding: 0.3em;box-sizing: border-box;text-align: center;}#sk-container-id-1 label.sk-toggleable__label-arrow:before {content: \"▸\";float: left;margin-right: 0.25em;color: #696969;}#sk-container-id-1 label.sk-toggleable__label-arrow:hover:before {color: black;}#sk-container-id-1 div.sk-estimator:hover label.sk-toggleable__label-arrow:before {color: black;}#sk-container-id-1 div.sk-toggleable__content {max-height: 0;max-width: 0;overflow: hidden;text-align: left;background-color: #f0f8ff;}#sk-container-id-1 div.sk-toggleable__content pre {margin: 0.2em;color: black;border-radius: 0.25em;background-color: #f0f8ff;}#sk-container-id-1 input.sk-toggleable__control:checked~div.sk-toggleable__content {max-height: 200px;max-width: 100%;overflow: auto;}#sk-container-id-1 input.sk-toggleable__control:checked~label.sk-toggleable__label-arrow:before {content: \"▾\";}#sk-container-id-1 div.sk-estimator input.sk-toggleable__control:checked~label.sk-toggleable__label {background-color: #d4ebff;}#sk-container-id-1 div.sk-label input.sk-toggleable__control:checked~label.sk-toggleable__label {background-color: #d4ebff;}#sk-container-id-1 input.sk-hidden--visually {border: 0;clip: rect(1px 1px 1px 1px);clip: rect(1px, 1px, 1px, 1px);height: 1px;margin: -1px;overflow: hidden;padding: 0;position: absolute;width: 1px;}#sk-container-id-1 div.sk-estimator {font-family: monospace;background-color: #f0f8ff;border: 1px dotted black;border-radius: 0.25em;box-sizing: border-box;margin-bottom: 0.5em;}#sk-container-id-1 div.sk-estimator:hover {background-color: #d4ebff;}#sk-container-id-1 div.sk-parallel-item::after {content: \"\";width: 100%;border-bottom: 1px solid gray;flex-grow: 1;}#sk-container-id-1 div.sk-label:hover label.sk-toggleable__label {background-color: #d4ebff;}#sk-container-id-1 div.sk-serial::before {content: \"\";position: absolute;border-left: 1px solid gray;box-sizing: border-box;top: 0;bottom: 0;left: 50%;z-index: 0;}#sk-container-id-1 div.sk-serial {display: flex;flex-direction: column;align-items: center;background-color: white;padding-right: 0.2em;padding-left: 0.2em;position: relative;}#sk-container-id-1 div.sk-item {position: relative;z-index: 1;}#sk-container-id-1 div.sk-parallel {display: flex;align-items: stretch;justify-content: center;background-color: white;position: relative;}#sk-container-id-1 div.sk-item::before, #sk-container-id-1 div.sk-parallel-item::before {content: \"\";position: absolute;border-left: 1px solid gray;box-sizing: border-box;top: 0;bottom: 0;left: 50%;z-index: -1;}#sk-container-id-1 div.sk-parallel-item {display: flex;flex-direction: column;z-index: 1;position: relative;background-color: white;}#sk-container-id-1 div.sk-parallel-item:first-child::after {align-self: flex-end;width: 50%;}#sk-container-id-1 div.sk-parallel-item:last-child::after {align-self: flex-start;width: 50%;}#sk-container-id-1 div.sk-parallel-item:only-child::after {width: 0;}#sk-container-id-1 div.sk-dashed-wrapped {border: 1px dashed gray;margin: 0 0.4em 0.5em 0.4em;box-sizing: border-box;padding-bottom: 0.4em;background-color: white;}#sk-container-id-1 div.sk-label label {font-family: monospace;font-weight: bold;display: inline-block;line-height: 1.2em;}#sk-container-id-1 div.sk-label-container {text-align: center;}#sk-container-id-1 div.sk-container {/* jupyter's `normalize.less` sets `[hidden] { display: none; }` but bootstrap.min.css set `[hidden] { display: none !important; }` so we also need the `!important` here to be able to override the default hidden behavior on the sphinx rendered scikit-learn.org. See: https://github.com/scikit-learn/scikit-learn/issues/21755 */display: inline-block !important;position: relative;}#sk-container-id-1 div.sk-text-repr-fallback {display: none;}</style><div id=\"sk-container-id-1\" class=\"sk-top-container\"><div class=\"sk-text-repr-fallback\"><pre>XGBClassifier(base_score=None, booster=None, callbacks=None,\n",
       "              colsample_bylevel=None, colsample_bynode=None,\n",
       "              colsample_bytree=None, early_stopping_rounds=None,\n",
       "              enable_categorical=False, eval_metric=None, feature_types=None,\n",
       "              gamma=None, gpu_id=None, grow_policy=None, importance_type=None,\n",
       "              interaction_constraints=None, learning_rate=None, max_bin=None,\n",
       "              max_cat_threshold=None, max_cat_to_onehot=None,\n",
       "              max_delta_step=None, max_depth=None, max_leaves=None,\n",
       "              min_child_weight=None, missing=nan, monotone_constraints=None,\n",
       "              n_estimators=100, n_jobs=None, num_parallel_tree=None,\n",
       "              predictor=None, random_state=123, ...)</pre><b>In a Jupyter environment, please rerun this cell to show the HTML representation or trust the notebook. <br />On GitHub, the HTML representation is unable to render, please try loading this page with nbviewer.org.</b></div><div class=\"sk-container\" hidden><div class=\"sk-item\"><div class=\"sk-estimator sk-toggleable\"><input class=\"sk-toggleable__control sk-hidden--visually\" id=\"sk-estimator-id-1\" type=\"checkbox\" checked><label for=\"sk-estimator-id-1\" class=\"sk-toggleable__label sk-toggleable__label-arrow\">XGBClassifier</label><div class=\"sk-toggleable__content\"><pre>XGBClassifier(base_score=None, booster=None, callbacks=None,\n",
       "              colsample_bylevel=None, colsample_bynode=None,\n",
       "              colsample_bytree=None, early_stopping_rounds=None,\n",
       "              enable_categorical=False, eval_metric=None, feature_types=None,\n",
       "              gamma=None, gpu_id=None, grow_policy=None, importance_type=None,\n",
       "              interaction_constraints=None, learning_rate=None, max_bin=None,\n",
       "              max_cat_threshold=None, max_cat_to_onehot=None,\n",
       "              max_delta_step=None, max_depth=None, max_leaves=None,\n",
       "              min_child_weight=None, missing=nan, monotone_constraints=None,\n",
       "              n_estimators=100, n_jobs=None, num_parallel_tree=None,\n",
       "              predictor=None, random_state=123, ...)</pre></div></div></div></div></div>"
      ],
      "text/plain": [
       "XGBClassifier(base_score=None, booster=None, callbacks=None,\n",
       "              colsample_bylevel=None, colsample_bynode=None,\n",
       "              colsample_bytree=None, early_stopping_rounds=None,\n",
       "              enable_categorical=False, eval_metric=None, feature_types=None,\n",
       "              gamma=None, gpu_id=None, grow_policy=None, importance_type=None,\n",
       "              interaction_constraints=None, learning_rate=None, max_bin=None,\n",
       "              max_cat_threshold=None, max_cat_to_onehot=None,\n",
       "              max_delta_step=None, max_depth=None, max_leaves=None,\n",
       "              min_child_weight=None, missing=nan, monotone_constraints=None,\n",
       "              n_estimators=100, n_jobs=None, num_parallel_tree=None,\n",
       "              predictor=None, random_state=123, ...)"
      ]
     },
     "execution_count": 26,
     "metadata": {},
     "output_type": "execute_result"
    }
   ],
   "source": [
    "model_xgb = XGBClassifier(random_state=123)\n",
    "model_xgb.fit(X_train, y_train)\n"
   ]
  },
  {
   "cell_type": "code",
   "execution_count": 27,
   "id": "609dfc2b-9845-46d3-af2d-7ec078a949ff",
   "metadata": {
    "tags": []
   },
   "outputs": [],
   "source": [
    "y_pred = model_xgb.predict(X_test)\n",
    "report = classification_report(y_test, y_pred)\n",
    "conf_matrix = confusion_matrix(y_test, y_pred)"
   ]
  },
  {
   "cell_type": "code",
   "execution_count": 28,
   "id": "08178ef1-b309-4971-859d-f1f9f2699508",
   "metadata": {
    "tags": []
   },
   "outputs": [
    {
     "data": {
      "text/plain": [
       "'              precision    recall  f1-score   support\\n\\n           0       0.85      0.53      0.66     32504\\n           1       0.28      0.65      0.39      8948\\n\\n    accuracy                           0.56     41452\\n   macro avg       0.56      0.59      0.52     41452\\nweighted avg       0.73      0.56      0.60     41452\\n'"
      ]
     },
     "execution_count": 28,
     "metadata": {},
     "output_type": "execute_result"
    }
   ],
   "source": [
    "report"
   ]
  },
  {
   "cell_type": "code",
   "execution_count": 29,
   "id": "fd6ceb83-d6b2-4c65-bc5f-181568970dbc",
   "metadata": {
    "tags": []
   },
   "outputs": [
    {
     "data": {
      "text/plain": [
       "array([[17353, 15151],\n",
       "       [ 3104,  5844]])"
      ]
     },
     "execution_count": 29,
     "metadata": {},
     "output_type": "execute_result"
    }
   ],
   "source": [
    "conf_matrix\n"
   ]
  },
  {
   "cell_type": "code",
   "execution_count": 50,
   "id": "7180a6e3-d137-427d-935b-62e35f1c979f",
   "metadata": {
    "tags": []
   },
   "outputs": [
    {
     "data": {
      "text/plain": [
       "0.5596111164720641"
      ]
     },
     "execution_count": 50,
     "metadata": {},
     "output_type": "execute_result"
    }
   ],
   "source": [
    "from sklearn.metrics import accuracy_score\n",
    "accuracy = accuracy_score(y_test, y_pred)\n",
    "accuracy"
   ]
  },
  {
   "cell_type": "code",
   "execution_count": 30,
   "id": "2d5a6a5e-a3b7-449c-a5e4-81c50bc9c264",
   "metadata": {
    "tags": []
   },
   "outputs": [],
   "source": [
    "total_cost = 0\n",
    "for i in range(len(y_test)):\n",
    "    if y_test[i] == 1:  \n",
    "        total_cost += 600\n",
    "    else:  \n",
    "        total_cost += 100"
   ]
  },
  {
   "cell_type": "code",
   "execution_count": 31,
   "id": "649f9f63-4c5e-4cc3-a6f0-cfae057bb402",
   "metadata": {
    "tags": []
   },
   "outputs": [
    {
     "data": {
      "text/plain": [
       "8619200"
      ]
     },
     "execution_count": 31,
     "metadata": {},
     "output_type": "execute_result"
    }
   ],
   "source": [
    "total_cost"
   ]
  },
  {
   "cell_type": "code",
   "execution_count": 33,
   "id": "cfe51a12-0297-4820-a7b5-22f197e15283",
   "metadata": {
    "tags": []
   },
   "outputs": [
    {
     "data": {
      "text/plain": [
       "0.21586413200810575"
      ]
     },
     "execution_count": 33,
     "metadata": {},
     "output_type": "execute_result"
    }
   ],
   "source": [
    "proportion_dispute_test = sum(y_test) / len(y_test)\n",
    "proportion_dispute_test"
   ]
  },
  {
   "cell_type": "code",
   "execution_count": 34,
   "id": "96a91da7-4c08-4e78-adde-be5657b17274",
   "metadata": {
    "tags": []
   },
   "outputs": [
    {
     "data": {
      "text/plain": [
       "0.5"
      ]
     },
     "execution_count": 34,
     "metadata": {},
     "output_type": "execute_result"
    }
   ],
   "source": [
    "proportion_dispute_train = sum(y_train) / len(y_train)\n",
    "proportion_dispute_train"
   ]
  },
  {
   "cell_type": "code",
   "execution_count": 35,
   "id": "481ddce6-1999-4788-8573-d22d0f840051",
   "metadata": {
    "tags": []
   },
   "outputs": [],
   "source": [
    "report = classification_report(y_test, y_pred, target_names=['No', 'Yes'])\n",
    "recall_disputed_yes = float(report.split()[5])"
   ]
  },
  {
   "cell_type": "code",
   "execution_count": 36,
   "id": "43e6d4f6-d036-4fc2-b385-71d133afbcd3",
   "metadata": {
    "tags": []
   },
   "outputs": [
    {
     "data": {
      "text/plain": [
       "0.85"
      ]
     },
     "execution_count": 36,
     "metadata": {},
     "output_type": "execute_result"
    }
   ],
   "source": [
    "recall_disputed_yes"
   ]
  },
  {
   "cell_type": "code",
   "execution_count": 47,
   "id": "afa16e5f-28fa-40fc-98a7-517a494a85ea",
   "metadata": {
    "tags": []
   },
   "outputs": [],
   "source": [
    "total_cost_with_model = 0\n",
    "\n",
    "for i in range(len(y_test)):\n",
    "    if y_pred[i] == 1:  \n",
    "        total_cost_with_model += 90\n",
    "    else:\n",
    "        if y_test[i] == 1:  \n",
    "            total_cost_with_model += 600\n",
    "        else:  \n",
    "            total_cost_with_model += 100\n",
    "\n"
   ]
  },
  {
   "cell_type": "code",
   "execution_count": 48,
   "id": "1c6613d1-5817-45f9-971d-1cb1971d7c93",
   "metadata": {
    "tags": []
   },
   "outputs": [
    {
     "data": {
      "text/plain": [
       "5487250"
      ]
     },
     "execution_count": 48,
     "metadata": {},
     "output_type": "execute_result"
    }
   ],
   "source": [
    "total_cost_with_model"
   ]
  },
  {
   "cell_type": "code",
   "execution_count": 43,
   "id": "feac3462-2b50-496e-a9e7-b2ef2e08b379",
   "metadata": {
    "tags": []
   },
   "outputs": [],
   "source": [
    "best_threshold = 0.5\n",
    "min_total_cost = float('inf')\n",
    "\n",
    "for threshold in [0.1, 0.2, 0.3, 0.4, 0.5, 0.6, 0.7, 0.8, 0.9]:\n",
    "    y_pred_threshold = (y_pred >= threshold).astype(int)\n",
    "    \n",
    "    total_cost = 0\n",
    "    for i in range(len(y_test)):\n",
    "        if y_pred_threshold[i] == 1:  \n",
    "            total_cost += 90\n",
    "        else:\n",
    "            if y_test[i] == 1:  \n",
    "                total_cost += 600\n",
    "            else:  \n",
    "                total_cost += 100\n",
    "\n",
    "    if total_cost < min_total_cost:\n",
    "        min_total_cost = total_cost\n",
    "        best_threshold = threshold\n"
   ]
  },
  {
   "cell_type": "code",
   "execution_count": 45,
   "id": "8c0168fa-5621-4ae6-8f7d-50f37f551ad9",
   "metadata": {
    "tags": []
   },
   "outputs": [
    {
     "data": {
      "text/plain": [
       "0.1"
      ]
     },
     "execution_count": 45,
     "metadata": {},
     "output_type": "execute_result"
    }
   ],
   "source": [
    "best_threshold\n"
   ]
  },
  {
   "cell_type": "code",
   "execution_count": 46,
   "id": "e2771e1d-6c7d-4274-8e64-be0eb2363a75",
   "metadata": {
    "tags": []
   },
   "outputs": [
    {
     "data": {
      "text/plain": [
       "5487250"
      ]
     },
     "execution_count": 46,
     "metadata": {},
     "output_type": "execute_result"
    }
   ],
   "source": [
    "min_total_cost"
   ]
  },
  {
   "cell_type": "code",
   "execution_count": null,
   "id": "26f0d90f-7656-43d5-b94e-961093709501",
   "metadata": {},
   "outputs": [],
   "source": []
  }
 ],
 "metadata": {
  "kernelspec": {
   "display_name": "Python [conda env:mggy8413]",
   "language": "python",
   "name": "conda-env-mggy8413-py"
  },
  "language_info": {
   "codemirror_mode": {
    "name": "ipython",
    "version": 3
   },
   "file_extension": ".py",
   "mimetype": "text/x-python",
   "name": "python",
   "nbconvert_exporter": "python",
   "pygments_lexer": "ipython3",
   "version": "3.10.12"
  }
 },
 "nbformat": 4,
 "nbformat_minor": 5
}
